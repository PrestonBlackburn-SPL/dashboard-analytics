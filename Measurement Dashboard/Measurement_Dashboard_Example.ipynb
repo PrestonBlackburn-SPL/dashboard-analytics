{
 "cells": [
  {
   "cell_type": "code",
   "execution_count": 1,
   "metadata": {},
   "outputs": [],
   "source": [
    "import pandas as pd\n",
    "import pyodbc\n",
    "import re\n",
    "import matplotlib.pyplot as plt\n",
    "import seaborn as sns"
   ]
  },
  {
   "cell_type": "markdown",
   "metadata": {},
   "source": [
    "# Initial Query"
   ]
  },
  {
   "cell_type": "code",
   "execution_count": 81,
   "metadata": {},
   "outputs": [],
   "source": [
    "server = ''\n",
    "database = ''\n",
    "username = ''\n",
    "password = ''"
   ]
  },
  {
   "cell_type": "code",
   "execution_count": 2,
   "metadata": {},
   "outputs": [],
   "source": [
    "# example user data\n",
    "user_id =  8286 # Sylvia, Project Manager - logged in user (from ProdSPLAuth user table)\n",
    "\n",
    "# example date range\n",
    "start_date = pd.to_datetime('2021-06-13', format='%Y-%m-%d') \n",
    "end_date = pd.to_datetime('2021-09-13', format='%Y-%m-%d') #current date\n"
   ]
  },
  {
   "cell_type": "code",
   "execution_count": 131,
   "metadata": {},
   "outputs": [],
   "source": [
    "# Connect To DB to pull data\n",
    "# Note the LEFT JOIN between the SureChemSummary and PreLogSamles Table\n",
    "\n",
    "cnxn = pyodbc.connect('DRIVER={ODBC Driver 17 for SQL Server};SERVER='+server+';DATABASE='+database+';UID='+username+';PWD='+ password)\n",
    "cursor = cnxn.cursor()\n",
    "\n",
    "project_id_query = ('SELECT     CAST(ProdSureVue.dbo.PreLogSamples.CollectFrom as datetime),'\n",
    "                               ' ProdSureVue.dbo.PreLogSamples.Imported,'\n",
    "                                'ProdSureVue.dbo.PreLogSamples.SampledBy, '\n",
    "                               ' ProdSureVue.dbo.PreLogSamples.StationName, '\n",
    "                               ' ProdSureVue.dbo.PreLogSamples.StationNo, '\n",
    "                              '  ProdSureVue.dbo.PreLogSamples.SamplingPoint, '\n",
    "                               ' ProdSureVue.dbo.SureChemSummary.Received, '\n",
    "                               ' ProdSureVue.dbo.SureChemSummary.SampledDate,'\n",
    "                               ' ProdSureVue.dbo.SureChemSummary.ReportDate, '\n",
    "                              '  ProdSureVue.dbo.SureChemSummary.AnalysisDate, '\n",
    "                               ' ProdSureVue.dbo.SureChemSummary.DaysToDropOff, '\n",
    "                               ' ProdSureVue.dbo.SureChemSummary.TestStatus, '\n",
    "                               ' ProdSureVue.dbo.SureChemSummary.SampleStatus, '\n",
    "                               ' ProdSureVue.dbo.SureChemSummary.SID, '\n",
    "                               ' ProdSureVue.dbo.SureChemSummary.SSID, '\n",
    "                               ' ProdSureVue.dbo.SureChemSummary.WOStatus, '\n",
    "                                ' ProdSureVue.dbo.SureChemSummary.WorkOrder, '\n",
    "                                ' ProdSureVue.dbo.SureChemSummary.Method, '\n",
    "                                ' ProdSureVue.dbo.SureChemSummary.TestCode '\n",
    "                    \n",
    "                            ' FROM ProdSPLAuth.dbo.user_project INNER JOIN '\n",
    "                            ' ProdSPLAuth.dbo.projects ON ProdSPLAuth.dbo.user_project.project_id = ProdSPLAuth.dbo.projects.id '\n",
    "                             ' INNER JOIN ProdSureVue.dbo.SampleLocations ON ProdSPLAuth.dbo.projects.unique_key = ProdSureVue.dbo.SampleLocations.LCProjectID '\n",
    "                            ' INNER JOIN ProdSureVue.dbo.PreLogSamples ON ProdSureVue.dbo.SampleLocations.SLID = ProdSureVue.dbo.PreLogSamples.SLID '\n",
    "                            ' LEFT JOIN ProdSureVue.dbo.SureChemSummary ON ProdSureVue.dbo.PreLogSamples.PreLogID = ProdSureVue.dbo.SureChemSummary.PreLogID '\n",
    "                            f'WHERE        (ProdSPLAuth.dbo.user_project.user_id = {user_id})')\n",
    "                    \n",
    "project_id_table = pd.read_sql_query(project_id_query, cnxn)\n",
    "project_id_table = project_id_table.rename(columns = {\"\" : 'CollectFrom'})"
   ]
  },
  {
   "cell_type": "code",
   "execution_count": 3,
   "metadata": {},
   "outputs": [
    {
     "name": "stderr",
     "output_type": "stream",
     "text": [
      "C:\\Users\\Preston\\anaconda3\\lib\\site-packages\\IPython\\core\\interactiveshell.py:3071: DtypeWarning: Columns (7,8,9,10,12,13,16,18,19) have mixed types.Specify dtype option on import or set low_memory=False.\n",
      "  has_raised = await self.run_ast_nodes(code_ast.body, cell_name,\n"
     ]
    }
   ],
   "source": [
    "#Saving the data so I can use it whenever-\n",
    "#project_id_table.to_csv(r'measurement_dash_data.csv')\n",
    "project_id_table = pd.read_csv(r'measurement_dash_data.csv')\n"
   ]
  },
  {
   "cell_type": "code",
   "execution_count": 4,
   "metadata": {},
   "outputs": [],
   "source": [
    "# We need to drop the test codes with \"CHG\"\n",
    "# CHG test codes refer to additional charges such as cleaning and disposal that are irrelevant to the customer\n",
    "project_id_table = project_id_table[~project_id_table['TestCode'].str.contains(\"CHG\", na=False)]"
   ]
  },
  {
   "cell_type": "code",
   "execution_count": 5,
   "metadata": {},
   "outputs": [
    {
     "data": {
      "text/html": [
       "<div>\n",
       "<style scoped>\n",
       "    .dataframe tbody tr th:only-of-type {\n",
       "        vertical-align: middle;\n",
       "    }\n",
       "\n",
       "    .dataframe tbody tr th {\n",
       "        vertical-align: top;\n",
       "    }\n",
       "\n",
       "    .dataframe thead th {\n",
       "        text-align: right;\n",
       "    }\n",
       "</style>\n",
       "<table border=\"1\" class=\"dataframe\">\n",
       "  <thead>\n",
       "    <tr style=\"text-align: right;\">\n",
       "      <th></th>\n",
       "      <th>Unnamed: 0</th>\n",
       "      <th>CollectFrom</th>\n",
       "      <th>Imported</th>\n",
       "      <th>SampledBy</th>\n",
       "      <th>StationName</th>\n",
       "      <th>StationNo</th>\n",
       "      <th>SamplingPoint</th>\n",
       "      <th>Received</th>\n",
       "      <th>SampledDate</th>\n",
       "      <th>ReportDate</th>\n",
       "      <th>AnalysisDate</th>\n",
       "      <th>DaysToDropOff</th>\n",
       "      <th>TestStatus</th>\n",
       "      <th>SampleStatus</th>\n",
       "      <th>SID</th>\n",
       "      <th>SSID</th>\n",
       "      <th>WOStatus</th>\n",
       "      <th>WorkOrder</th>\n",
       "      <th>Method</th>\n",
       "      <th>TestCode</th>\n",
       "    </tr>\n",
       "  </thead>\n",
       "  <tbody>\n",
       "    <tr>\n",
       "      <th>0</th>\n",
       "      <td>0</td>\n",
       "      <td>2021-02-22 22:45:04.303</td>\n",
       "      <td>True</td>\n",
       "      <td>Vern Lund &lt;vern.lund@williams.com&gt;</td>\n",
       "      <td>FILLMORE FEE STATE 14-36D CRP</td>\n",
       "      <td>94834</td>\n",
       "      <td>NaN</td>\n",
       "      <td>2021-03-26 00:00:00.000</td>\n",
       "      <td>2021-03-22 15:44:00.000</td>\n",
       "      <td>2021-03-30 00:00:00.000</td>\n",
       "      <td>2021-03-26 10:18:51.000</td>\n",
       "      <td>4.0</td>\n",
       "      <td>C</td>\n",
       "      <td>C</td>\n",
       "      <td>6110.0</td>\n",
       "      <td>13908000.0</td>\n",
       "      <td>C</td>\n",
       "      <td>21030042.0</td>\n",
       "      <td>GPA-2261M</td>\n",
       "      <td>GC-C6GAS</td>\n",
       "    </tr>\n",
       "    <tr>\n",
       "      <th>1</th>\n",
       "      <td>1</td>\n",
       "      <td>2021-02-23 22:00:12.420</td>\n",
       "      <td>True</td>\n",
       "      <td>Vern Lund &lt;vern.lund@williams.com&gt;</td>\n",
       "      <td>CRESTON NOSE 7-2-18-92 CRP</td>\n",
       "      <td>94797</td>\n",
       "      <td>NaN</td>\n",
       "      <td>2021-03-26 00:00:00.000</td>\n",
       "      <td>2021-03-22 14:59:00.000</td>\n",
       "      <td>2021-03-30 00:00:00.000</td>\n",
       "      <td>2021-03-26 10:27:12.000</td>\n",
       "      <td>4.0</td>\n",
       "      <td>C</td>\n",
       "      <td>C</td>\n",
       "      <td>6111.0</td>\n",
       "      <td>13908001.0</td>\n",
       "      <td>C</td>\n",
       "      <td>21030042.0</td>\n",
       "      <td>GPA-2261M</td>\n",
       "      <td>GC-C6GAS</td>\n",
       "    </tr>\n",
       "    <tr>\n",
       "      <th>2</th>\n",
       "      <td>2</td>\n",
       "      <td>2021-02-22 22:14:44.990</td>\n",
       "      <td>True</td>\n",
       "      <td>Vern Lund &lt;vern.lund@williams.com&gt;</td>\n",
       "      <td>EAST ECHO SPRINGS 11-35-19-92 CRP</td>\n",
       "      <td>94619</td>\n",
       "      <td>NaN</td>\n",
       "      <td>2021-03-26 00:00:00.000</td>\n",
       "      <td>2021-03-22 15:14:00.000</td>\n",
       "      <td>2021-03-30 00:00:00.000</td>\n",
       "      <td>2021-03-26 10:50:37.000</td>\n",
       "      <td>4.0</td>\n",
       "      <td>C</td>\n",
       "      <td>C</td>\n",
       "      <td>6112.0</td>\n",
       "      <td>13908002.0</td>\n",
       "      <td>C</td>\n",
       "      <td>21030042.0</td>\n",
       "      <td>GPA-2261M</td>\n",
       "      <td>GC-C6GAS</td>\n",
       "    </tr>\n",
       "    <tr>\n",
       "      <th>3</th>\n",
       "      <td>3</td>\n",
       "      <td>2021-03-22 23:15:08.523</td>\n",
       "      <td>True</td>\n",
       "      <td>Josh Cozzens &lt;joshua.cozzens@williams.com&gt;</td>\n",
       "      <td>BARREL SPRINGS 22-3 CRP</td>\n",
       "      <td>94780</td>\n",
       "      <td>NaN</td>\n",
       "      <td>2021-03-26 00:00:00.000</td>\n",
       "      <td>2021-03-22 17:15:00.000</td>\n",
       "      <td>2021-03-30 00:00:00.000</td>\n",
       "      <td>2021-03-26 10:11:32.000</td>\n",
       "      <td>4.0</td>\n",
       "      <td>C</td>\n",
       "      <td>C</td>\n",
       "      <td>6113.0</td>\n",
       "      <td>13908003.0</td>\n",
       "      <td>C</td>\n",
       "      <td>21030042.0</td>\n",
       "      <td>GPA-2261M</td>\n",
       "      <td>GC-C6GAS</td>\n",
       "    </tr>\n",
       "    <tr>\n",
       "      <th>4</th>\n",
       "      <td>4</td>\n",
       "      <td>2021-03-22 18:09:53.570</td>\n",
       "      <td>True</td>\n",
       "      <td>Aaron Peterson &lt;aaron.peterson@williams.com&gt;</td>\n",
       "      <td>CHAIN LAKES I5 21 PAD CRP</td>\n",
       "      <td>25673A</td>\n",
       "      <td>NaN</td>\n",
       "      <td>2021-03-26 00:00:00.000</td>\n",
       "      <td>2021-03-22 12:09:00.000</td>\n",
       "      <td>2021-03-30 00:00:00.000</td>\n",
       "      <td>2021-03-26 10:02:50.000</td>\n",
       "      <td>4.0</td>\n",
       "      <td>C</td>\n",
       "      <td>C</td>\n",
       "      <td>6114.0</td>\n",
       "      <td>13908004.0</td>\n",
       "      <td>C</td>\n",
       "      <td>21030042.0</td>\n",
       "      <td>GPA-2261M</td>\n",
       "      <td>GC-C6GAS</td>\n",
       "    </tr>\n",
       "  </tbody>\n",
       "</table>\n",
       "</div>"
      ],
      "text/plain": [
       "   Unnamed: 0              CollectFrom  Imported  \\\n",
       "0           0  2021-02-22 22:45:04.303      True   \n",
       "1           1  2021-02-23 22:00:12.420      True   \n",
       "2           2  2021-02-22 22:14:44.990      True   \n",
       "3           3  2021-03-22 23:15:08.523      True   \n",
       "4           4  2021-03-22 18:09:53.570      True   \n",
       "\n",
       "                                      SampledBy  \\\n",
       "0            Vern Lund <vern.lund@williams.com>   \n",
       "1            Vern Lund <vern.lund@williams.com>   \n",
       "2            Vern Lund <vern.lund@williams.com>   \n",
       "3    Josh Cozzens <joshua.cozzens@williams.com>   \n",
       "4  Aaron Peterson <aaron.peterson@williams.com>   \n",
       "\n",
       "                         StationName StationNo SamplingPoint  \\\n",
       "0      FILLMORE FEE STATE 14-36D CRP     94834           NaN   \n",
       "1         CRESTON NOSE 7-2-18-92 CRP     94797           NaN   \n",
       "2  EAST ECHO SPRINGS 11-35-19-92 CRP     94619           NaN   \n",
       "3            BARREL SPRINGS 22-3 CRP     94780           NaN   \n",
       "4          CHAIN LAKES I5 21 PAD CRP    25673A           NaN   \n",
       "\n",
       "                  Received              SampledDate               ReportDate  \\\n",
       "0  2021-03-26 00:00:00.000  2021-03-22 15:44:00.000  2021-03-30 00:00:00.000   \n",
       "1  2021-03-26 00:00:00.000  2021-03-22 14:59:00.000  2021-03-30 00:00:00.000   \n",
       "2  2021-03-26 00:00:00.000  2021-03-22 15:14:00.000  2021-03-30 00:00:00.000   \n",
       "3  2021-03-26 00:00:00.000  2021-03-22 17:15:00.000  2021-03-30 00:00:00.000   \n",
       "4  2021-03-26 00:00:00.000  2021-03-22 12:09:00.000  2021-03-30 00:00:00.000   \n",
       "\n",
       "              AnalysisDate  DaysToDropOff TestStatus SampleStatus     SID  \\\n",
       "0  2021-03-26 10:18:51.000            4.0          C            C  6110.0   \n",
       "1  2021-03-26 10:27:12.000            4.0          C            C  6111.0   \n",
       "2  2021-03-26 10:50:37.000            4.0          C            C  6112.0   \n",
       "3  2021-03-26 10:11:32.000            4.0          C            C  6113.0   \n",
       "4  2021-03-26 10:02:50.000            4.0          C            C  6114.0   \n",
       "\n",
       "         SSID WOStatus   WorkOrder     Method  TestCode  \n",
       "0  13908000.0        C  21030042.0  GPA-2261M  GC-C6GAS  \n",
       "1  13908001.0        C  21030042.0  GPA-2261M  GC-C6GAS  \n",
       "2  13908002.0        C  21030042.0  GPA-2261M  GC-C6GAS  \n",
       "3  13908003.0        C  21030042.0  GPA-2261M  GC-C6GAS  \n",
       "4  13908004.0        C  21030042.0  GPA-2261M  GC-C6GAS  "
      ]
     },
     "execution_count": 5,
     "metadata": {},
     "output_type": "execute_result"
    }
   ],
   "source": [
    "project_id_table.head()"
   ]
  },
  {
   "cell_type": "code",
   "execution_count": 6,
   "metadata": {},
   "outputs": [
    {
     "name": "stdout",
     "output_type": "stream",
     "text": [
      "Total Samples Imported Into SureChem:  40918\n",
      "Total Samples Not Imported:  1568\n"
     ]
    }
   ],
   "source": [
    "print(\"Total Samples Imported Into SureChem: \", \n",
    "      project_id_table[project_id_table['Imported']==True]['Imported'].count())\n",
    "print(\"Total Samples Not Imported: \", \n",
    "      project_id_table[project_id_table['Imported']==False]['Imported'].count())\n"
   ]
  },
  {
   "cell_type": "markdown",
   "metadata": {},
   "source": [
    "##### The total number of samples not imported seems high - we might need to clean this up\n",
    " - To discus with Mark and Mothafar"
   ]
  },
  {
   "cell_type": "code",
   "execution_count": 7,
   "metadata": {},
   "outputs": [
    {
     "data": {
      "text/plain": [
       "\"\\nHere is the list of work order and sample statuses from the lab's LIMS system:\\nWO Status:\\nW = Work In Progress\\nH = Hold\\nDR = Deliver Report\\nC = Complete\\nGR = Generate report\\nH = On Hold\\nFR = Final Review\\n \\n\\nSample Status:\\nW = Work in progress\\nC = Complete\\nH = On Hold\\nU = Unreportable\\nNA = No Results Available\\nRJ = Rejected\\nX = Deleted \\n\""
      ]
     },
     "execution_count": 7,
     "metadata": {},
     "output_type": "execute_result"
    }
   ],
   "source": [
    "\"\"\"\n",
    "Here is the list of work order and sample statuses from the lab's LIMS system:\n",
    "WO Status:\n",
    "W = Work In Progress\n",
    "H = Hold\n",
    "DR = Deliver Report\n",
    "C = Complete\n",
    "GR = Generate report\n",
    "H = On Hold\n",
    "FR = Final Review\n",
    " \n",
    "\n",
    "Sample Status:\n",
    "W = Work in progress\n",
    "C = Complete\n",
    "H = On Hold\n",
    "U = Unreportable\n",
    "NA = No Results Available\n",
    "RJ = Rejected\n",
    "X = Deleted \n",
    "\"\"\""
   ]
  },
  {
   "cell_type": "code",
   "execution_count": 8,
   "metadata": {},
   "outputs": [
    {
     "name": "stdout",
     "output_type": "stream",
     "text": [
      "Unique Test Status:  ['C', 'U', nan, 'W', 'RJ']\n",
      "Unique Sample Status:  ['C', 'UN', 'UK', 'W', 'UC', nan]\n",
      "Unique Workorder Status:  ['C', 'W', 'FR', 'GR', nan]\n"
     ]
    }
   ],
   "source": [
    "print(\"Unique Test Status: \", list(project_id_table['TestStatus'].unique()))\n",
    "print(\"Unique Sample Status: \", list(project_id_table['SampleStatus'].unique()))\n",
    "print(\"Unique Workorder Status: \", list(project_id_table['WOStatus'].unique()))"
   ]
  },
  {
   "cell_type": "code",
   "execution_count": 9,
   "metadata": {},
   "outputs": [
    {
     "name": "stdout",
     "output_type": "stream",
     "text": [
      "# of samples with errors:  17\n",
      "# of tests with errors:  53\n"
     ]
    }
   ],
   "source": [
    "samples_with_errors = project_id_table[((project_id_table['SampleStatus']==\"UK\") |\n",
    "                      (project_id_table['SampleStatus']==\"UN\") | \n",
    "                      (project_id_table['SampleStatus']==\"UC\"))]['SampleStatus'].count()\n",
    "\n",
    "tests_with_errors = project_id_table[((project_id_table['TestStatus']==\"U\") |\n",
    "                      (project_id_table['TestStatus']==\"RJ\"))]['SampleStatus'].count()\n",
    "\n",
    "print('# of samples with errors: ', samples_with_errors)\n",
    "print(\"# of tests with errors: \", tests_with_errors)"
   ]
  },
  {
   "cell_type": "markdown",
   "metadata": {},
   "source": [
    "# Monthly # Of Tests/Samples/Work Orders Graph\n",
    "In this example I'm assuming that the user has \"tests\" selected  \n",
    "A similar code should work with grouping respective status codes for Samples and Work Orders"
   ]
  },
  {
   "cell_type": "code",
   "execution_count": 10,
   "metadata": {},
   "outputs": [],
   "source": [
    "# create copy of the original dataset and drop na\n",
    "monthly_tests_df = project_id_table[['Received', 'TestStatus']]\n",
    "monthly_tests_df = monthly_tests_df.dropna()\n",
    "\n",
    "# create columns for plotting\n",
    "monthly_tests_df['Completed'] = monthly_tests_df['TestStatus'].str.count('C')\n",
    "monthly_tests_df['In Progress'] = monthly_tests_df['TestStatus'].str.count('W')\n",
    "monthly_tests_df['Errors'] = monthly_tests_df['TestStatus'].str.count('U|RJ')\n",
    "monthly_tests_df['Date'] = pd.to_datetime(monthly_tests_df['Received'].values, infer_datetime_format=True) "
   ]
  },
  {
   "cell_type": "code",
   "execution_count": 11,
   "metadata": {},
   "outputs": [],
   "source": [
    "# User can select date ranges\n",
    "start_date = pd.to_datetime('2021-06-13', format='%Y-%m-%d') \n",
    "end_date = pd.to_datetime('2021-09-23', format='%Y-%m-%d') #current date\n",
    "\n",
    "# Grouping by month in this case \n",
    "# It would be nice to have an option to group by other intervals as well\n",
    "monthly_tests_df = monthly_tests_df[monthly_tests_df['Date'] > start_date]\n",
    "monthly_tests_df = monthly_tests_df.resample('M', on='Date')[['Completed', 'In Progress', 'Errors']].sum()\n"
   ]
  },
  {
   "cell_type": "code",
   "execution_count": 12,
   "metadata": {},
   "outputs": [
    {
     "data": {
      "text/html": [
       "<div>\n",
       "<style scoped>\n",
       "    .dataframe tbody tr th:only-of-type {\n",
       "        vertical-align: middle;\n",
       "    }\n",
       "\n",
       "    .dataframe tbody tr th {\n",
       "        vertical-align: top;\n",
       "    }\n",
       "\n",
       "    .dataframe thead th {\n",
       "        text-align: right;\n",
       "    }\n",
       "</style>\n",
       "<table border=\"1\" class=\"dataframe\">\n",
       "  <thead>\n",
       "    <tr style=\"text-align: right;\">\n",
       "      <th></th>\n",
       "      <th>Completed</th>\n",
       "      <th>In Progress</th>\n",
       "      <th>Errors</th>\n",
       "    </tr>\n",
       "    <tr>\n",
       "      <th>Date</th>\n",
       "      <th></th>\n",
       "      <th></th>\n",
       "      <th></th>\n",
       "    </tr>\n",
       "  </thead>\n",
       "  <tbody>\n",
       "    <tr>\n",
       "      <th>2021-06-30</th>\n",
       "      <td>1825</td>\n",
       "      <td>0</td>\n",
       "      <td>7</td>\n",
       "    </tr>\n",
       "    <tr>\n",
       "      <th>2021-07-31</th>\n",
       "      <td>2892</td>\n",
       "      <td>0</td>\n",
       "      <td>3</td>\n",
       "    </tr>\n",
       "    <tr>\n",
       "      <th>2021-08-31</th>\n",
       "      <td>3450</td>\n",
       "      <td>0</td>\n",
       "      <td>13</td>\n",
       "    </tr>\n",
       "    <tr>\n",
       "      <th>2021-09-30</th>\n",
       "      <td>1889</td>\n",
       "      <td>634</td>\n",
       "      <td>3</td>\n",
       "    </tr>\n",
       "  </tbody>\n",
       "</table>\n",
       "</div>"
      ],
      "text/plain": [
       "            Completed  In Progress  Errors\n",
       "Date                                      \n",
       "2021-06-30       1825            0       7\n",
       "2021-07-31       2892            0       3\n",
       "2021-08-31       3450            0      13\n",
       "2021-09-30       1889          634       3"
      ]
     },
     "execution_count": 12,
     "metadata": {},
     "output_type": "execute_result"
    }
   ],
   "source": [
    "monthly_tests_df.head()"
   ]
  },
  {
   "cell_type": "code",
   "execution_count": 13,
   "metadata": {},
   "outputs": [
    {
     "name": "stdout",
     "output_type": "stream",
     "text": [
      "Tile 1, Completed:  10056\n",
      "Tile 2, In Progress:  634\n",
      "Tile 3, Error:  26\n"
     ]
    }
   ],
   "source": [
    "# Test/Sample/Work Order Tracker\n",
    "print(\"Tile 1, Completed: \", monthly_tests_df['Completed'].sum())\n",
    "print(\"Tile 2, In Progress: \", monthly_tests_df['In Progress'].sum())\n",
    "print(\"Tile 3, Error: \", monthly_tests_df['Errors'].sum())"
   ]
  },
  {
   "cell_type": "code",
   "execution_count": 14,
   "metadata": {},
   "outputs": [
    {
     "data": {
      "image/png": "[encoded data removed]",
      "text/plain": [
       "<Figure size 432x288 with 1 Axes>"
      ]
     },
     "metadata": {
      "needs_background": "light"
     },
     "output_type": "display_data"
    }
   ],
   "source": [
    "# Bar Graph - Monthly # Of Tests/Samples/Work Orders Graph\n",
    "# the user should be able to click the key to veiw the specific status - I think we need something to scale up the errors \n",
    "ax = monthly_tests_df.plot.bar()"
   ]
  },
  {
   "cell_type": "markdown",
   "metadata": {},
   "source": [
    "# Completed Test/Sample/Workorder List\n",
    "I think that this should be filterable by tests, samples, and workorders as well  \n",
    "In this example I'm assuming that the user has \"tests\" selected  "
   ]
  },
  {
   "cell_type": "code",
   "execution_count": 15,
   "metadata": {},
   "outputs": [],
   "source": [
    "recent_completed_tests_table = project_id_table[['ReportDate', 'StationName', 'StationNo', 'Method']]\n",
    "recent_completed_tests_table = recent_completed_tests_table.sort_values(by=\"ReportDate\", ascending=False)\n",
    "\n",
    "# only show the 5 latest tests done\n",
    "recent_completed_tests_table = recent_completed_tests_table.iloc[:5]"
   ]
  },
  {
   "cell_type": "code",
   "execution_count": 16,
   "metadata": {},
   "outputs": [
    {
     "data": {
      "text/html": [
       "<div>\n",
       "<style scoped>\n",
       "    .dataframe tbody tr th:only-of-type {\n",
       "        vertical-align: middle;\n",
       "    }\n",
       "\n",
       "    .dataframe tbody tr th {\n",
       "        vertical-align: top;\n",
       "    }\n",
       "\n",
       "    .dataframe thead th {\n",
       "        text-align: right;\n",
       "    }\n",
       "</style>\n",
       "<table border=\"1\" class=\"dataframe\">\n",
       "  <thead>\n",
       "    <tr style=\"text-align: right;\">\n",
       "      <th></th>\n",
       "      <th>ReportDate</th>\n",
       "      <th>StationName</th>\n",
       "      <th>StationNo</th>\n",
       "      <th>Method</th>\n",
       "    </tr>\n",
       "  </thead>\n",
       "  <tbody>\n",
       "    <tr>\n",
       "      <th>19085</th>\n",
       "      <td>2021-09-23 00:00:00.000</td>\n",
       "      <td>Hawk 35 Fed 701h</td>\n",
       "      <td>60381244</td>\n",
       "      <td>GPA-2261M</td>\n",
       "    </tr>\n",
       "    <tr>\n",
       "      <th>19210</th>\n",
       "      <td>2021-09-23 00:00:00.000</td>\n",
       "      <td>Fox 30 Sc Fac #4h</td>\n",
       "      <td>60381062</td>\n",
       "      <td>GPA-2261M</td>\n",
       "    </tr>\n",
       "    <tr>\n",
       "      <th>19191</th>\n",
       "      <td>2021-09-23 00:00:00.000</td>\n",
       "      <td>Pure Gold A Fed 8 Battery</td>\n",
       "      <td>83293</td>\n",
       "      <td>GPA-2261M</td>\n",
       "    </tr>\n",
       "    <tr>\n",
       "      <th>19199</th>\n",
       "      <td>2021-09-23 00:00:00.000</td>\n",
       "      <td>Roo 22 St. 5 Check</td>\n",
       "      <td>14464C</td>\n",
       "      <td>GPA-2261M</td>\n",
       "    </tr>\n",
       "    <tr>\n",
       "      <th>19204</th>\n",
       "      <td>2021-09-23 00:00:00.000</td>\n",
       "      <td>Condor 32 St 703h</td>\n",
       "      <td>67282403</td>\n",
       "      <td>GPA-2261M</td>\n",
       "    </tr>\n",
       "  </tbody>\n",
       "</table>\n",
       "</div>"
      ],
      "text/plain": [
       "                    ReportDate                StationName StationNo     Method\n",
       "19085  2021-09-23 00:00:00.000           Hawk 35 Fed 701h  60381244  GPA-2261M\n",
       "19210  2021-09-23 00:00:00.000          Fox 30 Sc Fac #4h  60381062  GPA-2261M\n",
       "19191  2021-09-23 00:00:00.000  Pure Gold A Fed 8 Battery     83293  GPA-2261M\n",
       "19199  2021-09-23 00:00:00.000         Roo 22 St. 5 Check    14464C  GPA-2261M\n",
       "19204  2021-09-23 00:00:00.000          Condor 32 St 703h  67282403  GPA-2261M"
      ]
     },
     "execution_count": 16,
     "metadata": {},
     "output_type": "execute_result"
    }
   ],
   "source": [
    "recent_completed_tests_table"
   ]
  },
  {
   "cell_type": "markdown",
   "metadata": {},
   "source": [
    "# Common Tests and Errors Charts\n",
    "\n",
    "There may be no errors in the selected date range  \n",
    "We'll need to switch from method name to test name (not test code) eventually, for now method should work"
   ]
  },
  {
   "cell_type": "code",
   "execution_count": 17,
   "metadata": {},
   "outputs": [
    {
     "name": "stderr",
     "output_type": "stream",
     "text": [
      "<ipython-input-17-b7ba19ae1fb5>:2: SettingWithCopyWarning: \n",
      "A value is trying to be set on a copy of a slice from a DataFrame.\n",
      "Try using .loc[row_indexer,col_indexer] = value instead\n",
      "\n",
      "See the caveats in the documentation: https://pandas.pydata.org/pandas-docs/stable/user_guide/indexing.html#returning-a-view-versus-a-copy\n",
      "  common_tests_table['Date'] = pd.to_datetime(common_tests_table['Received'].values, infer_datetime_format=True)\n"
     ]
    }
   ],
   "source": [
    "common_tests_table = project_id_table[['Received', 'Method', 'TestStatus']]\n",
    "common_tests_table['Date'] = pd.to_datetime(common_tests_table['Received'].values, infer_datetime_format=True) \n",
    "common_tests_table = common_tests_table[common_tests_table['Date'] > start_date]\n",
    "common_tests_table = common_tests_table.dropna()"
   ]
  },
  {
   "cell_type": "code",
   "execution_count": 18,
   "metadata": {},
   "outputs": [],
   "source": [
    "top_methods_table = common_tests_table.groupby(by=\"Method\").count()\n",
    "\n",
    "#Lets only take the top 5 most done tests\n",
    "top_methods_table = top_methods_table.nlargest(5, 'Received')"
   ]
  },
  {
   "cell_type": "code",
   "execution_count": 19,
   "metadata": {},
   "outputs": [],
   "source": [
    "top_methods = top_methods_table.index.values\n",
    "num_methods = top_methods_table['Received'].values"
   ]
  },
  {
   "cell_type": "code",
   "execution_count": 20,
   "metadata": {},
   "outputs": [
    {
     "data": {
      "image/png": "[encoded data removed]",
      "text/plain": [
       "<Figure size 432x288 with 1 Axes>"
      ]
     },
     "metadata": {},
     "output_type": "display_data"
    }
   ],
   "source": [
    "# Donut Plot for most done tests\n",
    "\n",
    "# Create a circle at the center of the plot\n",
    "top_method_chart = plt.Circle( (0,0), 0.3, color='white')\n",
    "\n",
    "# Create Chart\n",
    "plt.pie(list(num_methods), labels=list(top_methods), colors=['red','green','blue', 'orange', 'purple'], labeldistance=0.45)\n",
    "p = plt.gcf()\n",
    "p.gca().add_artist(top_method_chart)\n",
    "plt.show()"
   ]
  },
  {
   "cell_type": "code",
   "execution_count": 21,
   "metadata": {},
   "outputs": [],
   "source": [
    "top_errors_table =  common_tests_table[((common_tests_table['TestStatus']==\"U\") | (common_tests_table['TestStatus']==\"RJ\"))][[\"Method\", \"TestStatus\"]]\n",
    "top_errors_table = top_errors_table.groupby(by=\"Method\").count()"
   ]
  },
  {
   "cell_type": "code",
   "execution_count": 22,
   "metadata": {},
   "outputs": [],
   "source": [
    "top_errors_methods = top_errors_table['TestStatus'].index.values\n",
    "num_errors = top_errors_table['TestStatus'].values"
   ]
  },
  {
   "cell_type": "code",
   "execution_count": 23,
   "metadata": {},
   "outputs": [
    {
     "data": {
      "image/png": "[encoded data removed]",
      "text/plain": [
       "<Figure size 432x288 with 1 Axes>"
      ]
     },
     "metadata": {},
     "output_type": "display_data"
    }
   ],
   "source": [
    "# Donut Plot for tests with the most errors\n",
    "\n",
    "# Create a circle at the center of the plot\n",
    "errors_chart = plt.Circle( (0,0), 0.3, color='white')\n",
    "\n",
    "# Create Chart, in this case  there were only three metthods with errors\n",
    "plt.pie(list(num_errors), labels=list(top_errors_methods), colors=['red','green','blue'], labeldistance=0.45)\n",
    "p = plt.gcf()\n",
    "p.gca().add_artist(errors_chart)\n",
    "plt.show()"
   ]
  },
  {
   "cell_type": "markdown",
   "metadata": {},
   "source": [
    "# Location Search/Summary Table\n",
    "The filterable table at the bottom of the dashboard\n",
    "\n",
    "Eventually we'll need to update this table with scheduler data for test/method"
   ]
  },
  {
   "cell_type": "code",
   "execution_count": 24,
   "metadata": {},
   "outputs": [],
   "source": [
    "# User can select date ranges\n",
    "start_date = pd.to_datetime('2021-08-13', format='%Y-%m-%d') \n",
    "end_date = pd.to_datetime('2021-09-23', format='%Y-%m-%d') #current date"
   ]
  },
  {
   "cell_type": "code",
   "execution_count": 110,
   "metadata": {},
   "outputs": [
    {
     "name": "stderr",
     "output_type": "stream",
     "text": [
      "<ipython-input-110-f63520cac3b6>:4: SettingWithCopyWarning: \n",
      "A value is trying to be set on a copy of a slice from a DataFrame.\n",
      "Try using .loc[row_indexer,col_indexer] = value instead\n",
      "\n",
      "See the caveats in the documentation: https://pandas.pydata.org/pandas-docs/stable/user_guide/indexing.html#returning-a-view-versus-a-copy\n",
      "  locations_table['CollectDate'] = pd.to_datetime(locations_table['CollectFrom'].values, infer_datetime_format=True)\n",
      "<ipython-input-110-f63520cac3b6>:26: SettingWithCopyWarning: \n",
      "A value is trying to be set on a copy of a slice from a DataFrame.\n",
      "Try using .loc[row_indexer,col_indexer] = value instead\n",
      "\n",
      "See the caveats in the documentation: https://pandas.pydata.org/pandas-docs/stable/user_guide/indexing.html#returning-a-view-versus-a-copy\n",
      "  sampled_only_table['# of Tests'] = \"-\"\n"
     ]
    }
   ],
   "source": [
    "locations_table = project_id_table[['CollectFrom', 'ReportDate', 'StationName', 'StationNo', 'SamplingPoint', 'Method', \"TestStatus\", \"SampleStatus\", \"SID\", \"WorkOrder\"]]\n",
    "\n",
    "# Filter Over Date Range (start date to current date)\n",
    "locations_table['CollectDate'] = pd.to_datetime(locations_table['CollectFrom'].values, infer_datetime_format=True) \n",
    "locations_table = locations_table[(locations_table['CollectDate'] > start_date) & (locations_table['CollectDate'] < end_date)]\n",
    "locations_table = locations_table.sort_values(by=\"CollectDate\", ascending=False)\n",
    "\n",
    "# Set Status For Collected but not dropped off samples\n",
    "# In this case I'll use \"S\" for Sampled\n",
    "values = {\"TestStatus\": \"S\", \"SampleStatus\": \"S\"}\n",
    "locations_table = locations_table.fillna(value=values)\n",
    "\n",
    "#Check sample statuses\n",
    "locations_table['InProgress'] = locations_table['SampleStatus'].str.count(\"W\")\n",
    "locations_table['Complete'] = locations_table['SampleStatus'].str.count(\"C\")\n",
    "locations_table['Sampled'] = locations_table['SampleStatus'].str.count(\"S\")\n",
    "locations_table['Errors'] = locations_table['SampleStatus'].str.count(\"U|RJ\")\n",
    "\n",
    "# Im not sure what the best way to ge the # of tests is - \n",
    "# Basically I want to show the individual samples in the table and have them grouped by test\n",
    "# It makes it tricky since we need to deal with samples that have been sampled, but have not been assigned an SID yet\n",
    "\n",
    "sampled_only_table = locations_table[locations_table['SampleStatus']==\"S\"]\n",
    "dropped_off_table = locations_table[locations_table['SampleStatus']!=\"S\"]\n",
    "\n",
    "sampled_only_table['# of Tests'] = \"-\""
   ]
  },
  {
   "cell_type": "code",
   "execution_count": 111,
   "metadata": {},
   "outputs": [],
   "source": [
    "# I sum the the columns based on SID to get the totals for InProgress, Complete, Sampled, and Errors\n",
    "dropped_off_table_tests = dropped_off_table.groupby(by=[\"SID\"]).sum()\n",
    "\n",
    "# create # of tests counter\n",
    "dropped_off_table_tests[\"# of Tests\"] = dropped_off_table_tests.iloc[:,1:3].sum(axis=1)\n",
    "\n",
    "# I only take the first values for this table to get unique SID info since we don't be showing the method\n",
    "dropped_off_table_grouped = dropped_off_table.groupby(by=[\"SID\"]).first()\n"
   ]
  },
  {
   "cell_type": "code",
   "execution_count": 112,
   "metadata": {},
   "outputs": [],
   "source": [
    "# don't use counters from dropped off table since they are not correct\n",
    "dropped_off_table_grouped = dropped_off_table_grouped.drop(['InProgress', \"Complete\", \"Sampled\", \"Errors\"], axis=1)\n",
    "\n",
    "# Merge table with counters to table with Unique SID info\n",
    "dropped_off_table_grouped = pd.concat([dropped_off_table_grouped, dropped_off_table_tests[[\"# of Tests\", \"Complete\", \"Sampled\", \"InProgress\", \"Errors\"]]], axis=1)\n",
    "\n",
    "dropped_off_table_grouped = dropped_off_table_grouped.reset_index()"
   ]
  },
  {
   "cell_type": "code",
   "execution_count": 113,
   "metadata": {},
   "outputs": [],
   "source": [
    "# Combine sampled table with updated dropped off table\n",
    "summary_table_results =  pd.concat([dropped_off_table_grouped, sampled_only_table])\n",
    "\n",
    "# Values For Table - technically sample status should be re-calculated from complete, sampled and in progress columns\n",
    "summary_table_results = summary_table_results[[\"CollectFrom\", \"StationName\", \"StationNo\", \"SamplingPoint\" , \"SampleStatus\", \"Errors\",  \"# of Tests\", \"ReportDate\"]]"
   ]
  },
  {
   "cell_type": "code",
   "execution_count": 114,
   "metadata": {},
   "outputs": [
    {
     "data": {
      "text/html": [
       "<div>\n",
       "<style scoped>\n",
       "    .dataframe tbody tr th:only-of-type {\n",
       "        vertical-align: middle;\n",
       "    }\n",
       "\n",
       "    .dataframe tbody tr th {\n",
       "        vertical-align: top;\n",
       "    }\n",
       "\n",
       "    .dataframe thead th {\n",
       "        text-align: right;\n",
       "    }\n",
       "</style>\n",
       "<table border=\"1\" class=\"dataframe\">\n",
       "  <thead>\n",
       "    <tr style=\"text-align: right;\">\n",
       "      <th></th>\n",
       "      <th>StationName</th>\n",
       "      <th>StationNo</th>\n",
       "      <th>SamplingPoint</th>\n",
       "      <th>SampleStatus</th>\n",
       "      <th>Errors</th>\n",
       "      <th># of Tests</th>\n",
       "      <th>ReportDate</th>\n",
       "    </tr>\n",
       "  </thead>\n",
       "  <tbody>\n",
       "    <tr>\n",
       "      <th>28818</th>\n",
       "      <td>LATHAM DRAW 29-40D CRP</td>\n",
       "      <td>94607</td>\n",
       "      <td>NaN</td>\n",
       "      <td>S</td>\n",
       "      <td>0</td>\n",
       "      <td>-</td>\n",
       "      <td>NaN</td>\n",
       "    </tr>\n",
       "    <tr>\n",
       "      <th>40974</th>\n",
       "      <td>LATHAM DRAW 29-100 RUN 2 CRP</td>\n",
       "      <td>94790</td>\n",
       "      <td>NaN</td>\n",
       "      <td>S</td>\n",
       "      <td>0</td>\n",
       "      <td>-</td>\n",
       "      <td>NaN</td>\n",
       "    </tr>\n",
       "    <tr>\n",
       "      <th>28652</th>\n",
       "      <td>BANDIT CS ENTERPRISE</td>\n",
       "      <td>14108967</td>\n",
       "      <td>NaN</td>\n",
       "      <td>S</td>\n",
       "      <td>0</td>\n",
       "      <td>-</td>\n",
       "      <td>NaN</td>\n",
       "    </tr>\n",
       "    <tr>\n",
       "      <th>36011</th>\n",
       "      <td>FMP USA NEAL 2-60 CRP</td>\n",
       "      <td>94687</td>\n",
       "      <td>NaN</td>\n",
       "      <td>S</td>\n",
       "      <td>0</td>\n",
       "      <td>-</td>\n",
       "      <td>NaN</td>\n",
       "    </tr>\n",
       "    <tr>\n",
       "      <th>43414</th>\n",
       "      <td>Teddy 1 #1H</td>\n",
       "      <td>46821701</td>\n",
       "      <td>NaN</td>\n",
       "      <td>S</td>\n",
       "      <td>0</td>\n",
       "      <td>-</td>\n",
       "      <td>NaN</td>\n",
       "    </tr>\n",
       "    <tr>\n",
       "      <th>25827</th>\n",
       "      <td>St Galileo North Fc</td>\n",
       "      <td>59589006</td>\n",
       "      <td>NaN</td>\n",
       "      <td>S</td>\n",
       "      <td>0</td>\n",
       "      <td>-</td>\n",
       "      <td>NaN</td>\n",
       "    </tr>\n",
       "    <tr>\n",
       "      <th>40610</th>\n",
       "      <td>BOA LGL DISC</td>\n",
       "      <td>14115666</td>\n",
       "      <td>upstream</td>\n",
       "      <td>S</td>\n",
       "      <td>0</td>\n",
       "      <td>-</td>\n",
       "      <td>NaN</td>\n",
       "    </tr>\n",
       "    <tr>\n",
       "      <th>38316</th>\n",
       "      <td>Frazier 34 Sc 503h</td>\n",
       "      <td>60381104</td>\n",
       "      <td>NaN</td>\n",
       "      <td>S</td>\n",
       "      <td>0</td>\n",
       "      <td>-</td>\n",
       "      <td>NaN</td>\n",
       "    </tr>\n",
       "    <tr>\n",
       "      <th>32688</th>\n",
       "      <td>Navarro Mid Sales 8</td>\n",
       "      <td>EHWCT09370</td>\n",
       "      <td>NaN</td>\n",
       "      <td>S</td>\n",
       "      <td>0</td>\n",
       "      <td>-</td>\n",
       "      <td>NaN</td>\n",
       "    </tr>\n",
       "    <tr>\n",
       "      <th>42412</th>\n",
       "      <td>Frazier 34 Sc 401h Gl</td>\n",
       "      <td>60384110</td>\n",
       "      <td>NaN</td>\n",
       "      <td>S</td>\n",
       "      <td>0</td>\n",
       "      <td>-</td>\n",
       "      <td>NaN</td>\n",
       "    </tr>\n",
       "  </tbody>\n",
       "</table>\n",
       "</div>"
      ],
      "text/plain": [
       "                        StationName   StationNo SamplingPoint SampleStatus  \\\n",
       "28818        LATHAM DRAW 29-40D CRP       94607           NaN            S   \n",
       "40974  LATHAM DRAW 29-100 RUN 2 CRP       94790           NaN            S   \n",
       "28652          BANDIT CS ENTERPRISE    14108967           NaN            S   \n",
       "36011         FMP USA NEAL 2-60 CRP       94687           NaN            S   \n",
       "43414                   Teddy 1 #1H    46821701           NaN            S   \n",
       "25827           St Galileo North Fc    59589006           NaN            S   \n",
       "40610                  BOA LGL DISC    14115666      upstream            S   \n",
       "38316            Frazier 34 Sc 503h    60381104           NaN            S   \n",
       "32688           Navarro Mid Sales 8  EHWCT09370           NaN            S   \n",
       "42412         Frazier 34 Sc 401h Gl    60384110           NaN            S   \n",
       "\n",
       "       Errors # of Tests ReportDate  \n",
       "28818       0          -        NaN  \n",
       "40974       0          -        NaN  \n",
       "28652       0          -        NaN  \n",
       "36011       0          -        NaN  \n",
       "43414       0          -        NaN  \n",
       "25827       0          -        NaN  \n",
       "40610       0          -        NaN  \n",
       "38316       0          -        NaN  \n",
       "32688       0          -        NaN  \n",
       "42412       0          -        NaN  "
      ]
     },
     "execution_count": 114,
     "metadata": {},
     "output_type": "execute_result"
    }
   ],
   "source": [
    "# Sort By Newest First\n",
    "summary_table_results = summary_table_results.sort_values(by=\"CollectFrom\", ascending=False)\n",
    "\n",
    "# Show Final Table\n",
    "summary_table_results[[\"StationName\", \"StationNo\", \"SamplingPoint\" , \"SampleStatus\", \"Errors\",  \"# of Tests\", \"ReportDate\"]].head(10)"
   ]
  }
 ],
 "metadata": {
  "kernelspec": {
   "display_name": "Python 3",
   "language": "python",
   "name": "python3"
  },
  "language_info": {
   "codemirror_mode": {
    "name": "ipython",
    "version": 3
   },
   "file_extension": ".py",
   "mimetype": "text/x-python",
   "name": "python",
   "nbconvert_exporter": "python",
   "pygments_lexer": "ipython3",
   "version": "3.8.3"
  }
 },
 "nbformat": 4,
 "nbformat_minor": 5
}
